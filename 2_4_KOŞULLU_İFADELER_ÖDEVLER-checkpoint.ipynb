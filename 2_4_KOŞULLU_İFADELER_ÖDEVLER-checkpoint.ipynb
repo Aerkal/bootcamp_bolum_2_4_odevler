{
 "cells": [
  {
   "cell_type": "code",
   "execution_count": 1,
   "metadata": {},
   "outputs": [
    {
     "name": "stdout",
     "output_type": "stream",
     "text": [
      "fahrenayt olarak sıcaklık değerini giriniz:145\n",
      "145F --> 62.78C\n"
     ]
    }
   ],
   "source": [
    "# 2.BÖLÜM 4.KISIM KOŞULLU İFADELER VE DÖNGÜLER ÖDEV NO:1\n",
    "\n",
    "# C = (5/9) * (F - 32)\n",
    "\n",
    "F=input(\"fahrenayt olarak sıcaklık değerini giriniz:\")\n",
    "C = (5/9) * (int(F) - 32)\n",
    "metin=\"{}F --> {:.2f}C\"\n",
    "print(metin.format(F,C))"
   ]
  },
  {
   "cell_type": "code",
   "execution_count": 5,
   "metadata": {},
   "outputs": [
    {
     "name": "stdout",
     "output_type": "stream",
     "text": [
      "çarpım tablosu için sayı giriniz:11\n",
      "11 x 1 = 11\n",
      "11 x 2 = 22\n",
      "11 x 3 = 33\n",
      "11 x 4 = 44\n",
      "11 x 5 = 55\n",
      "11 x 6 = 66\n",
      "11 x 7 = 77\n",
      "11 x 8 = 88\n",
      "11 x 9 = 99\n",
      "11 x 10 = 110\n"
     ]
    }
   ],
   "source": [
    "# 2.BÖLÜM 4.KISIM KOŞULLU İFADELER VE DÖNGÜLER ÖDEV NO:4\n",
    "\n",
    "sayı=int(input(\"çarpım tablosu için sayı giriniz:\"))\n",
    "for n in range(1,11):\n",
    "    sonuç= sayı * n\n",
    "    print(\"{} x {} = {}\".format(sayı,n,sonuç))"
   ]
  },
  {
   "cell_type": "code",
   "execution_count": 3,
   "metadata": {},
   "outputs": [
    {
     "name": "stdout",
     "output_type": "stream",
     "text": [
      "[1, 8, 9, 64, 25, 216, 49, 512, 81, 1000, 121, 1728, 169, 2744, 225, 4096, 289, 5832, 361, 8000]\n"
     ]
    }
   ],
   "source": [
    "# 2.BÖLÜM 4.KISIM KOŞULLU İFADELER VE DÖNGÜLER ÖDEV NO:5\n",
    "\n",
    "liste=[x**3 if x%2==0 else x**2 for x in range(1,21)]\n",
    "print(liste)"
   ]
  },
  {
   "cell_type": "code",
   "execution_count": 4,
   "metadata": {},
   "outputs": [
    {
     "name": "stdout",
     "output_type": "stream",
     "text": [
      "lütfen bir kelime giriniz:hasan\n",
      "nasah"
     ]
    }
   ],
   "source": [
    "# 2.BÖLÜM 4.KISIM KOŞULLU İFADELER VE DÖNGÜLER ÖDEV NO:2\n",
    "\n",
    "kelime= input(\"lütfen bir kelime giriniz:\")\n",
    "a=len(kelime)\n",
    "    \n",
    "for x in range (a):\n",
    "    \n",
    "    print(\"{}\".format(kelime[(a-1)-x]), end=\"\")"
   ]
  },
  {
   "cell_type": "code",
   "execution_count": 11,
   "metadata": {},
   "outputs": [
    {
     "name": "stdout",
     "output_type": "stream",
     "text": [
      "[1, 1, 2, 3, 5, 8, 13, 21, 34, 55, 89, 144, 233, 377, 610, 987, 1597, 2584, 4181, 6765, 10946, 17711, 28657, 46368, 75025, 121393, 196418, 317811, 514229, 832040, 1346269, 2178309, 3524578, 5702887, 9227465, 14930352, 24157817, 39088169, 63245986, 102334155, 165580141, 267914296, 433494437, 701408733, 1134903170, 1836311903, 2971215073, 4807526976, 7778742049, 12586269025, 20365011074, 32951280099]\n"
     ]
    }
   ],
   "source": [
    "# 2.BÖLÜM 4.KISIM KOŞULLU İFADELER VE DÖNGÜLER ÖDEV NO:3\n",
    "\n",
    "liste=[1,1]\n",
    "\n",
    "for x in range(50):\n",
    "        a=len(liste)\n",
    "        liste.append(liste[a-1]+liste[a-2])\n",
    "\n",
    "print(liste)"
   ]
  },
  {
   "cell_type": "code",
   "execution_count": null,
   "metadata": {},
   "outputs": [],
   "source": []
  }
 ],
 "metadata": {
  "kernelspec": {
   "display_name": "Python 3",
   "language": "python",
   "name": "python3"
  },
  "language_info": {
   "codemirror_mode": {
    "name": "ipython",
    "version": 3
   },
   "file_extension": ".py",
   "mimetype": "text/x-python",
   "name": "python",
   "nbconvert_exporter": "python",
   "pygments_lexer": "ipython3",
   "version": "3.7.2"
  }
 },
 "nbformat": 4,
 "nbformat_minor": 2
}
